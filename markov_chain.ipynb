{
  "nbformat": 4,
  "nbformat_minor": 0,
  "metadata": {
    "colab": {
      "name": "markov_chain.ipynb",
      "provenance": [],
      "collapsed_sections": []
    },
    "kernelspec": {
      "name": "python3",
      "display_name": "Python 3"
    },
    "language_info": {
      "name": "python"
    }
  },
  "cells": [
    {
      "cell_type": "code",
      "execution_count": 1,
      "metadata": {
        "id": "0qYOppTRuVrG"
      },
      "outputs": [],
      "source": [
        "import numpy as np\n",
        "import random"
      ]
    },
    {
      "cell_type": "code",
      "source": [
        "states = [\"sleep\", \"work\", \"play\"]\n",
        "\n",
        "transitions = [[\"SS\", \"SW\", \"SP\"], [\"WW\", \"WS\", \"WP\"], [\"PP\", \"PS\", \"PW\"]]\n"
      ],
      "metadata": {
        "id": "dhhOEf5euhA1"
      },
      "execution_count": 2,
      "outputs": []
    },
    {
      "cell_type": "code",
      "source": [
        "# probablity matrix\n",
        "\n",
        "prob_matrix = [[0.1, 0.7, 0.2], [0.1, 0.7, 0.2], [0.3, 0.4, 0.3]] # arbitrary probabilities have been assigned here\n"
      ],
      "metadata": {
        "id": "jYJfopGIvOO0"
      },
      "execution_count": 3,
      "outputs": []
    },
    {
      "cell_type": "code",
      "source": [
        "def predict_future_state(days, current_state):\n",
        "\n",
        "  start_state = current_state\n",
        "  print(\"The starting state is {}.\".format(start_state))\n",
        "  activity_list = [start_state]\n",
        "\n",
        "  i = 0\n",
        "  probability = 1\n",
        "\n",
        "  while i != days:\n",
        "\n",
        "    if start_state == \"sleep\":\n",
        "      change = np.random.choice(transitions[0], replace = True, p = prob_matrix[0])\n",
        "\n",
        "      if change == \"SS\":\n",
        "        probability *= 0.1\n",
        "        activity_list.append(\"sleep\")\n",
        "        pass\n",
        "      \n",
        "      elif change == \"SW\":\n",
        "        probability *= 0.7\n",
        "        activity_list.append(\"work\")\n",
        "\n",
        "      else:\n",
        "        probability *= 0.2\n",
        "        activity_list.append(\"play\")\n",
        "\n",
        "\n",
        "    if start_state == \"work\":\n",
        "      change = np.random.choice(transitions[1], replace = True, p = prob_matrix[1])\n",
        "\n",
        "      if change == \"WW\":\n",
        "        probability *= 0.1\n",
        "        activity_list.append(\"work\")\n",
        "        pass\n",
        "      \n",
        "      elif change == \"WS\":\n",
        "        probability *= 0.7\n",
        "        activity_list.append(\"sleep\")\n",
        "\n",
        "      else:\n",
        "        probability *= 0.2\n",
        "        activity_list.append(\"play\")\n",
        "\n",
        "\n",
        "    if start_state == \"play\":\n",
        "      change = np.random.choice(transitions[2], replace = True, p = prob_matrix[2])\n",
        "\n",
        "      if change == \"PP\":\n",
        "        probability *= 0.3\n",
        "        activity_list.append(\"play\")\n",
        "        pass\n",
        "      \n",
        "      elif change == \"PS\":\n",
        "        probability *= 0.4\n",
        "        activity_list.append(\"sleep\")\n",
        "\n",
        "      else:\n",
        "        probability *= 0.3\n",
        "        activity_list.append(\"work\")\n",
        "\n",
        "    i += 1\n",
        "  \n",
        "  print(\"Possible future states: {}\".format(str(activity_list)))\n",
        "  print(\"End state after {} days: {}\".format(str(days), str(activity_list[-1])))"
      ],
      "metadata": {
        "id": "sBMmDaEEvZcE"
      },
      "execution_count": 5,
      "outputs": []
    },
    {
      "cell_type": "code",
      "source": [
        "predict_future_state(1, \"sleep\")"
      ],
      "metadata": {
        "id": "dPyA0Dty5wn7",
        "colab": {
          "base_uri": "https://localhost:8080/"
        },
        "outputId": "a4fde526-11b5-4ad0-c8f8-acef1078f0cc"
      },
      "execution_count": 11,
      "outputs": [
        {
          "output_type": "stream",
          "name": "stdout",
          "text": [
            "The starting state is sleep.\n",
            "Possible future states: ['sleep', 'work']\n",
            "End state after 1 days: work\n"
          ]
        }
      ]
    },
    {
      "cell_type": "code",
      "source": [
        ""
      ],
      "metadata": {
        "id": "HAWl_Qfh7Uup"
      },
      "execution_count": null,
      "outputs": []
    }
  ]
}